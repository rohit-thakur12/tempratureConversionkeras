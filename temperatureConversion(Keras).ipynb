{
  "nbformat": 4,
  "nbformat_minor": 0,
  "metadata": {
    "colab": {
      "name": "temperatureConversion(Keras).ipynb",
      "provenance": []
    },
    "kernelspec": {
      "name": "python3",
      "display_name": "Python 3"
    },
    "accelerator": "GPU"
  },
  "cells": [
    {
      "cell_type": "code",
      "metadata": {
        "id": "rSJItTl3XINs",
        "colab_type": "code",
        "colab": {
          "base_uri": "https://localhost:8080/",
          "height": 34
        },
        "outputId": "06d66ef1-cd44-4c1d-9d5d-bc030a4aeaf1"
      },
      "source": [
        "import numpy as np\n",
        "import tensorflow as tf\n",
        "%tensorflow_version 2.x"
      ],
      "execution_count": 2,
      "outputs": [
        {
          "output_type": "stream",
          "text": [
            "TensorFlow is already loaded. Please restart the runtime to change versions.\n"
          ],
          "name": "stdout"
        }
      ]
    },
    {
      "cell_type": "code",
      "metadata": {
        "id": "dnfxfPTJXZWU",
        "colab_type": "code",
        "colab": {
          "base_uri": "https://localhost:8080/",
          "height": 136
        },
        "outputId": "3a65c425-2980-4cb6-f6d8-d81a2fb7648f"
      },
      "source": [
        "celsius = np.array([-40, -10,  0,  8, 15, 22,38], dtype=float)\n",
        "fahrenheit = np.array([-40,  14, 32, 46, 59, 72, 100],  dtype=float)\n",
        "\n",
        "for i,c in enumerate(celsius):\n",
        "  print(f'{c} degree celsius = {fahrenheit[i]} degree fahrenheit')"
      ],
      "execution_count": 3,
      "outputs": [
        {
          "output_type": "stream",
          "text": [
            "-40.0 degree celsius = -40.0 degree fahrenheit\n",
            "-10.0 degree celsius = 14.0 degree fahrenheit\n",
            "0.0 degree celsius = 32.0 degree fahrenheit\n",
            "8.0 degree celsius = 46.0 degree fahrenheit\n",
            "15.0 degree celsius = 59.0 degree fahrenheit\n",
            "22.0 degree celsius = 72.0 degree fahrenheit\n",
            "38.0 degree celsius = 100.0 degree fahrenheit\n"
          ],
          "name": "stdout"
        }
      ]
    },
    {
      "cell_type": "code",
      "metadata": {
        "id": "QMhLyhqfYaik",
        "colab_type": "code",
        "colab": {
          "base_uri": "https://localhost:8080/",
          "height": 88
        },
        "outputId": "564c4d3b-6834-4d10-f457-d0962f41d612"
      },
      "source": [
        "model = tf.keras.Sequential([\n",
        "            tf.keras.layers.Dense(units=1,input_shape=[1])\n",
        "])"
      ],
      "execution_count": 5,
      "outputs": [
        {
          "output_type": "stream",
          "text": [
            "WARNING:tensorflow:From /usr/local/lib/python3.6/dist-packages/tensorflow_core/python/ops/resource_variable_ops.py:1630: calling BaseResourceVariable.__init__ (from tensorflow.python.ops.resource_variable_ops) with constraint is deprecated and will be removed in a future version.\n",
            "Instructions for updating:\n",
            "If using Keras pass *_constraint arguments to layers.\n"
          ],
          "name": "stdout"
        }
      ]
    },
    {
      "cell_type": "code",
      "metadata": {
        "id": "b_3m7KGSY6w_",
        "colab_type": "code",
        "colab": {}
      },
      "source": [
        "model.compile(loss='mean_squared_error',optimizer=tf.keras.optimizers.Adam(0.01))"
      ],
      "execution_count": 0,
      "outputs": []
    },
    {
      "cell_type": "code",
      "metadata": {
        "id": "1-yR3V1BZaER",
        "colab_type": "code",
        "colab": {
          "base_uri": "https://localhost:8080/",
          "height": 34
        },
        "outputId": "e161c8a4-d944-4823-ff54-b87dcb4bd20b"
      },
      "source": [
        "history = model.fit(celsius,fahrenheit,epochs=50,verbose=False)\n",
        "print('Training finished')"
      ],
      "execution_count": 7,
      "outputs": [
        {
          "output_type": "stream",
          "text": [
            "Training finished\n"
          ],
          "name": "stdout"
        }
      ]
    },
    {
      "cell_type": "code",
      "metadata": {
        "id": "M0gw8qRQZoCd",
        "colab_type": "code",
        "colab": {
          "base_uri": "https://localhost:8080/",
          "height": 296
        },
        "outputId": "e8661023-f861-4c46-f65e-a84c10984c23"
      },
      "source": [
        "import matplotlib.pyplot as plt\n",
        "plt.plot(history.history['loss'])\n",
        "plt.xlabel('epochs')\n",
        "plt.ylabel('Loss magnitude')"
      ],
      "execution_count": 10,
      "outputs": [
        {
          "output_type": "execute_result",
          "data": {
            "text/plain": [
              "Text(0, 0.5, 'Loss magnitude')"
            ]
          },
          "metadata": {
            "tags": []
          },
          "execution_count": 10
        },
        {
          "output_type": "display_data",
          "data": {
            "image/png": "[encoded data removed]",
            "text/plain": [
              "<Figure size 432x288 with 1 Axes>"
            ]
          },
          "metadata": {
            "tags": []
          }
        }
      ]
    },
    {
      "cell_type": "code",
      "metadata": {
        "id": "w2BkzARVZxNh",
        "colab_type": "code",
        "colab": {
          "base_uri": "https://localhost:8080/",
          "height": 34
        },
        "outputId": "a723076f-581a-4188-f3a5-8dbfe096cb9c"
      },
      "source": [
        "print(model.predict([100]))"
      ],
      "execution_count": 12,
      "outputs": [
        {
          "output_type": "stream",
          "text": [
            "[[125.39761]]\n"
          ],
          "name": "stdout"
        }
      ]
    },
    {
      "cell_type": "code",
      "metadata": {
        "id": "DKu0duVVaRer",
        "colab_type": "code",
        "colab": {
          "base_uri": "https://localhost:8080/",
          "height": 255
        },
        "outputId": "071dd783-7c2f-4294-85c5-07581f48700e"
      },
      "source": [
        "l0 = tf.keras.layers.Dense(units=4,input_shape=[1])\n",
        "l1 = tf.keras.layers.Dense(units=4)\n",
        "l2 = tf.keras.layers.Dense(units=1)\n",
        "model1 = tf.keras.Sequential([l0,l1,l2])\n",
        "model1.compile(loss='mean_squared_error',optimizer=tf.keras.optimizers.Adam(0.01))\n",
        "model1.summary()\n"
      ],
      "execution_count": 15,
      "outputs": [
        {
          "output_type": "stream",
          "text": [
            "Model: \"sequential_2\"\n",
            "_________________________________________________________________\n",
            "Layer (type)                 Output Shape              Param #   \n",
            "=================================================================\n",
            "dense_4 (Dense)              (None, 4)                 8         \n",
            "_________________________________________________________________\n",
            "dense_5 (Dense)              (None, 4)                 20        \n",
            "_________________________________________________________________\n",
            "dense_6 (Dense)              (None, 1)                 5         \n",
            "=================================================================\n",
            "Total params: 33\n",
            "Trainable params: 33\n",
            "Non-trainable params: 0\n",
            "_________________________________________________________________\n"
          ],
          "name": "stdout"
        }
      ]
    },
    {
      "cell_type": "code",
      "metadata": {
        "id": "qQf5du3abQYU",
        "colab_type": "code",
        "colab": {
          "base_uri": "https://localhost:8080/",
          "height": 313
        },
        "outputId": "03a751da-5d20-4530-ac69-e3fb7642c5f7"
      },
      "source": [
        "history1 = model1.fit(celsius,fahrenheit,epochs=100,verbose=False)\n",
        "print('training finished')\n",
        "plt.plot(history1.history['loss'])\n",
        "plt.xlabel('epochs')\n",
        "plt.ylabel('loss')"
      ],
      "execution_count": 17,
      "outputs": [
        {
          "output_type": "stream",
          "text": [
            "training finished\n"
          ],
          "name": "stdout"
        },
        {
          "output_type": "execute_result",
          "data": {
            "text/plain": [
              "Text(0, 0.5, 'loss')"
            ]
          },
          "metadata": {
            "tags": []
          },
          "execution_count": 17
        },
        {
          "output_type": "display_data",
          "data": {
            "image/png": "[encoded data removed]",
            "text/plain": [
              "<Figure size 432x288 with 1 Axes>"
            ]
          },
          "metadata": {
            "tags": []
          }
        }
      ]
    },
    {
      "cell_type": "code",
      "metadata": {
        "id": "Oztp4w5yb4QN",
        "colab_type": "code",
        "colab": {
          "base_uri": "https://localhost:8080/",
          "height": 204
        },
        "outputId": "93ef9f3f-61fd-4517-92d8-9eb9e3a10d64"
      },
      "source": [
        "print(f'These are l0 variable {l0.get_weights()}')\n",
        "print(f'These are l1 variable {l1.get_weights()}')\n",
        "print(f'These are l2 variable {l2.get_weights()}')"
      ],
      "execution_count": 19,
      "outputs": [
        {
          "output_type": "stream",
          "text": [
            "These are l0 variable [array([[-0.7456094 ,  0.71663857,  0.4976274 ,  0.23148163]],\n",
            "      dtype=float32), array([-2.042815 ,  1.9526899,  1.6609958, -1.6549827], dtype=float32)]\n",
            "These are l1 variable [array([[-0.42129004,  0.12762797,  0.8903874 , -0.7186251 ],\n",
            "       [-0.08045289,  0.36940852, -0.2748189 ,  0.86815673],\n",
            "       [-0.3616966 , -0.14542462, -0.45840943,  1.2305228 ],\n",
            "       [ 0.05572785, -0.13758017,  0.6650245 , -0.6781446 ]],\n",
            "      dtype=float32), array([ 1.5738546,  1.4618777, -1.926069 ,  1.9024334], dtype=float32)]\n",
            "These are l2 variable [array([[ 0.81852627],\n",
            "       [ 0.3803838 ],\n",
            "       [-0.36828527],\n",
            "       [ 0.9622458 ]], dtype=float32), array([1.6636914], dtype=float32)]\n"
          ],
          "name": "stdout"
        }
      ]
    },
    {
      "cell_type": "code",
      "metadata": {
        "id": "2YJh-3KhcVwO",
        "colab_type": "code",
        "colab": {}
      },
      "source": [
        ""
      ],
      "execution_count": 0,
      "outputs": []
    }
  ]
}